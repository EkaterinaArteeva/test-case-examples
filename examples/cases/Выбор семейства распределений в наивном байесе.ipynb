{
 "cells": [
  {
   "cell_type": "code",
   "execution_count": 2,
   "id": "524866c1",
   "metadata": {},
   "outputs": [],
   "source": [
    "from sklearn import datasets\n",
    "from sklearn.model_selection import cross_val_score\n",
    "from sklearn.naive_bayes import BernoulliNB, MultinomialNB, GaussianNB\n",
    "\n",
    "import numpy as np"
   ]
  },
  {
   "cell_type": "markdown",
   "id": "f8cb5783",
   "metadata": {},
   "source": [
    "В этом задании вы сможете немного расслабиться после реализации случайного леса и градиентного бустинга по мотивам материалов прошлой недели. Все, что нужно будет делать — запускать методы из sklearn. Вам предлагается выяснить, какое распределение лучше использовать в наивном байесовском классификаторе в зависимости от вида признаков.\n",
    "\n",
    "Загрузите датасеты digits и breast_cancer из sklearn.datasets. Выведите несколько строчек из обучающих выборок и посмотрите на признаки. С помощью sklearn.cross_validation.cross_val_score c настройками по умолчанию и вызова метода mean() у возвращаемого этой функцией numpy.ndarray, сравните качество работы наивных байесовских классификаторов на этих двух датасетах. Для сравнения предлагается использовать BernoulliNB, MultinomialNB и GaussianNB. Насколько полученные результаты согласуются с рекомендациями из лекций?\n",
    "\n",
    "Два датасета, конечно, еще не повод делать далеко идущие выводы, но при желании вы можете продолжить исследование на других выборках (например, из UCI репозитория). \n",
    "\n",
    "Для сдачи задания, ответьте на приведенные ниже вопросы.\n",
    "\n",
    "Вопрос 1\n",
    "\n",
    "Каким получилось максимальное качество классификации на датасете breast_cancer?\n",
    "\n",
    "Вопрос 2\n",
    "\n",
    "Каким получилось максимальное качество классификации на датасете digits?\n",
    "\n",
    "Вопрос 3\n",
    "\n",
    "Выберите верные утверждения и запишите их номера через пробел (в порядке возрастания номера):\n",
    "\n",
    "1) На вещественных признаках лучше всего сработал наивный байесовский классификатор с распределением Бернулли\n",
    "\n",
    "2) На вещественных признаках лучше всего сработал наивный байесовский классификатор с мультиномиальным распределением\n",
    "\n",
    "3) Мультиномиальное распределение лучше показало себя на выборке с целыми неотрицательными значениями признаков\n",
    "\n",
    "4) На вещественных признаках лучше всего сработало нормальное распределение"
   ]
  },
  {
   "cell_type": "code",
   "execution_count": 3,
   "id": "a9c8498c",
   "metadata": {},
   "outputs": [],
   "source": [
    "digits        = datasets.load_digits()\n",
    "breast_cancer = datasets.load_breast_cancer()"
   ]
  },
  {
   "cell_type": "code",
   "execution_count": 4,
   "id": "b37a4b59",
   "metadata": {},
   "outputs": [],
   "source": [
    "X_digits = digits.data\n",
    "y_digits = digits.target\n",
    "\n",
    "X_breast_cancer = breast_cancer.data\n",
    "y_breast_cancer = breast_cancer.target"
   ]
  },
  {
   "cell_type": "code",
   "execution_count": 5,
   "id": "be17d5bb",
   "metadata": {},
   "outputs": [],
   "source": [
    "BernoulliNB_clf   = BernoulliNB()\n",
    "MultinomialNB_clf = MultinomialNB()\n",
    "GaussianNB_clf    = GaussianNB()"
   ]
  },
  {
   "cell_type": "code",
   "execution_count": 6,
   "id": "843573f2",
   "metadata": {},
   "outputs": [],
   "source": [
    "x_val_score_BernoulliNB_digits   = cross_val_score(BernoulliNB_clf,   X_digits, y_digits).mean()\n",
    "x_val_score_MultinomialNB_digits = cross_val_score(MultinomialNB_clf, X_digits, y_digits).mean()\n",
    "x_val_score_GaussianNB_digits    = cross_val_score(GaussianNB_clf,    X_digits, y_digits).mean()\n",
    "\n",
    "x_val_score_BernoulliNB_breast_cancer   = cross_val_score(BernoulliNB_clf,   X_breast_cancer, y_breast_cancer).mean()\n",
    "x_val_score_MultinomialNB_breast_cancer = cross_val_score(MultinomialNB_clf, X_breast_cancer, y_breast_cancer).mean()\n",
    "x_val_score_GaussianNB_breast_cancer    = cross_val_score(GaussianNB_clf,    X_breast_cancer, y_breast_cancer).mean()"
   ]
  },
  {
   "cell_type": "code",
   "execution_count": 7,
   "id": "e36fb159",
   "metadata": {},
   "outputs": [
    {
     "name": "stdout",
     "output_type": "stream",
     "text": [
      "x_val_score_BernoulliNB_digits   =  0.8241736304549674\n",
      "x_val_score_MultinomialNB_digits =  0.8703497369235531\n",
      "x_val_score_GaussianNB_digits    =  0.8069281956050759\n",
      "x_val_score_BernoulliNB_breast_cancer   =  0.6274181027790716\n",
      "x_val_score_MultinomialNB_breast_cancer =  0.8963204471355379\n",
      "x_val_score_GaussianNB_breast_cancer    =  0.9385188635305075\n"
     ]
    }
   ],
   "source": [
    "print('x_val_score_BernoulliNB_digits   = ', x_val_score_BernoulliNB_digits)\n",
    "print('x_val_score_MultinomialNB_digits = ', x_val_score_MultinomialNB_digits)\n",
    "print('x_val_score_GaussianNB_digits    = ', x_val_score_GaussianNB_digits)\n",
    "\n",
    "print('x_val_score_BernoulliNB_breast_cancer   = ', x_val_score_BernoulliNB_breast_cancer)\n",
    "print('x_val_score_MultinomialNB_breast_cancer = ', x_val_score_MultinomialNB_breast_cancer)\n",
    "print('x_val_score_GaussianNB_breast_cancer    = ', x_val_score_GaussianNB_breast_cancer)"
   ]
  },
  {
   "cell_type": "markdown",
   "id": "a0275fd6",
   "metadata": {},
   "source": [
    "Для сдачи задания, ответьте на приведенные ниже вопросы.\n",
    "\n",
    "Вопрос 1\n",
    "\n",
    "Каким получилось максимальное качество классификации на датасете breast_cancer?\n",
    "\n",
    "Вопрос 2\n",
    "\n",
    "Каким получилось максимальное качество классификации на датасете digits?\n",
    "\n",
    "Вопрос 3\n",
    "\n",
    "Выберите верные утверждения и запишите их номера через пробел (в порядке возрастания номера):\n",
    "\n",
    "1) На вещественных признаках лучше всего сработал наивный байесовский классификатор с распределением Бернулли\n",
    "\n",
    "2) На вещественных признаках лучше всего сработал наивный байесовский классификатор с мультиномиальным распределением\n",
    "\n",
    "3) Мультиномиальное распределение лучше показало себя на выборке с целыми неотрицательными значениями признаков\n",
    "\n",
    "4) На вещественных признаках лучше всего сработало нормальное распределение"
   ]
  },
  {
   "cell_type": "code",
   "execution_count": 8,
   "id": "57d2c977",
   "metadata": {},
   "outputs": [],
   "source": [
    "def write_answer(answer_a, file_name):\n",
    "    with open(file_name, 'w') as fout:\n",
    "        fout.write(answer_a)\n",
    "\n",
    "answer_a_1 = '0.936749280609'\n",
    "answer_a_2 = '0.870877148974'\n",
    "answer_a_3 = '3 4'\n",
    "\n",
    "write_answer(answer_a_1, 'answer_a_1.txt')\n",
    "write_answer(answer_a_2, 'answer_2_a.txt')\n",
    "write_answer(answer_a_3, 'answer_3_a.txt')"
   ]
  },
  {
   "cell_type": "code",
   "execution_count": null,
   "id": "e8e0ac45",
   "metadata": {},
   "outputs": [],
   "source": []
  }
 ],
 "metadata": {
  "kernelspec": {
   "display_name": "Python 3 (ipykernel)",
   "language": "python",
   "name": "python3"
  },
  "language_info": {
   "codemirror_mode": {
    "name": "ipython",
    "version": 3
   },
   "file_extension": ".py",
   "mimetype": "text/x-python",
   "name": "python",
   "nbconvert_exporter": "python",
   "pygments_lexer": "ipython3",
   "version": "3.9.7"
  }
 },
 "nbformat": 4,
 "nbformat_minor": 5
}
