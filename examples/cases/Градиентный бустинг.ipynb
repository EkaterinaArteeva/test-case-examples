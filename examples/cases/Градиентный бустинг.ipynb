{
 "cells": [
  {
   "cell_type": "markdown",
   "id": "2840065e",
   "metadata": {},
   "source": [
    "Градиентный бустинг своими руками\n",
    "Внимание: в тексте задания произошли изменения - поменялось число деревьев (теперь 50), правило изменения величины шага в задании 3 и добавился параметр random_state у решающего дерева. Правильные ответы не поменялись, но теперь их проще получить. Также исправлена опечатка в функции gbm_predict.\n",
    "\n",
    "В этом задании будет использоваться датасет boston из sklearn.datasets. Оставьте последние 25% объектов для контроля качества, разделив X и y на X_train, y_train и X_test, y_test.\n",
    "\n",
    "Целью задания будет реализовать простой вариант градиентного бустинга над регрессионными деревьями для случая квадратичной функции потерь."
   ]
  },
  {
   "cell_type": "markdown",
   "id": "990e5125",
   "metadata": {},
   "source": [
    "https://notebook.community/MaximMalakhov/coursera/Learning%20on%20marked%20data/Week%204/grad_boosting"
   ]
  },
  {
   "cell_type": "code",
   "execution_count": 10,
   "id": "dde6746e",
   "metadata": {},
   "outputs": [],
   "source": [
    "from sklearn import datasets, tree, ensemble\n",
    "from sklearn.model_selection import train_test_split\n",
    "from sklearn.metrics          import mean_squared_error\n",
    "\n",
    "import numpy as np"
   ]
  },
  {
   "cell_type": "code",
   "execution_count": 12,
   "id": "627aae44",
   "metadata": {},
   "outputs": [],
   "source": [
    "boston = datasets.load_boston()\n",
    "\n",
    "X_train = boston.data[:379]\n",
    "X_test = boston.data[379:]\n",
    "y_train = boston.target[:379]\n",
    "y_test = boston.target[379:]"
   ]
  },
  {
   "cell_type": "markdown",
   "id": "6f6dd163",
   "metadata": {},
   "source": [
    "Задание 1\n",
    "Как вы уже знаете из лекций, бустинг - это метод построения композиций базовых алгоритмов с помощью последовательного добавления к текущей композиции нового алгоритма с некоторым коэффициентом.\n",
    "\n",
    "Градиентный бустинг обучает каждый новый алгоритм так, чтобы он приближал антиградиент ошибки по ответам композиции на обучающей выборке. Аналогично минимизации функций методом градиентного спуска, в градиентном бустинге мы подправляем композицию, изменяя алгоритм в направлении антиградиента ошибки.\n",
    "\n",
    "Воспользуйтесь формулой из лекций, задающей ответы на обучающей выборке, на которые нужно обучать новый алгоритм (фактически это лишь чуть более подробно расписанный градиент от ошибки), и получите частный ее случай, если функция потерь L - квадрат отклонения ответа композиции a(x) от правильного ответа y на данном x.\n",
    "\n",
    "Если вы давно не считали производную самостоятельно, вам поможет таблица производных элементарных функций (которую несложно найти в интернете) и правило дифференцирования сложной функции. После дифференцирования квадрата у вас возникнет множитель 2 — т.к. нам все равно предстоит выбирать коэффициент, с которым будет добавлен новый базовый алгоритм, проигноируйте этот множитель при дальнейшем построении алгоритма."
   ]
  },
  {
   "cell_type": "code",
   "execution_count": 13,
   "id": "d98115d1",
   "metadata": {},
   "outputs": [],
   "source": [
    "def grad(y,z):\n",
    "    return y - z"
   ]
  },
  {
   "cell_type": "markdown",
   "id": "9398738a",
   "metadata": {},
   "source": [
    "Задание 2\n",
    "Заведите массив для объектов DecisionTreeRegressor (будем их использовать в качестве базовых алгоритмов) и для вещественных чисел (это будут коэффициенты перед базовыми алгоритмами).\n",
    "\n",
    "В цикле от обучите последовательно 50 решающих деревьев с параметрами max_depth=5 и random_state=42 (остальные параметры - по умолчанию). В бустинге зачастую используются сотни и тысячи деревьев, но мы ограничимся 50, чтобы алгоритм работал быстрее, и его было проще отлаживать (т.к. цель задания разобраться, как работает метод). Каждое дерево должно обучаться на одном и том же множестве объектов, но ответы, которые учится прогнозировать дерево, будут меняться в соответствие с полученным в задании 1 правилом.\n",
    "\n",
    "Попробуйте для начала всегда брать коэффициент равным 0.9. Обычно оправдано выбирать коэффициент значительно меньшим - порядка 0.05 или 0.1, но т.к. в нашем учебном примере на стандартном датасете будет всего 50 деревьев, возьмем для начала шаг побольше.\n",
    "\n",
    "В процессе реализации обучения вам потребуется функция, которая будет вычислять прогноз построенной на данный момент композиции деревьев на выборке X:\n",
    "\n",
    "def gbm_predict(X): return [sum([coeff * algo.predict([x])[0] for algo, coeff in zip(base_algorithms_list, coefficients_list)]) for x in X] (считаем, что base_algorithms_list - список с базовыми алгоритмами, coefficients_list - список с коэффициентами перед алгоритмами)\n",
    "Эта же функция поможет вам получить прогноз на контрольной выборке и оценить качество работы вашего алгоритма с помощью mean_squared_error в sklearn.metrics.\n",
    "\n",
    "Возведите результат в степень 0.5, чтобы получить RMSE. Полученное значение RMSE — ответ в пункте 2."
   ]
  },
  {
   "cell_type": "code",
   "execution_count": 15,
   "id": "2df4a073",
   "metadata": {},
   "outputs": [
    {
     "name": "stdout",
     "output_type": "stream",
     "text": [
      "error №  1  =  4.671153714252575 \n",
      "\n",
      "error №  2  =  4.902307279003964 \n",
      "\n",
      "error №  3  =  4.964147618734462 \n",
      "\n",
      "error №  4  =  5.20526450047539 \n",
      "\n",
      "error №  5  =  5.135565602127196 \n",
      "\n",
      "error №  6  =  5.240746955112687 \n",
      "\n",
      "error №  7  =  5.289270262665005 \n",
      "\n",
      "error №  8  =  5.474743913112658 \n",
      "\n",
      "error №  9  =  5.487351059181247 \n",
      "\n",
      "error №  10  =  5.493005009464344 \n",
      "\n",
      "error №  11  =  5.486541185059441 \n",
      "\n",
      "error №  12  =  5.485319403332965 \n",
      "\n",
      "error №  13  =  5.491142418867942 \n",
      "\n",
      "error №  14  =  5.4234289382521625 \n",
      "\n",
      "error №  15  =  5.455189053902552 \n",
      "\n",
      "error №  16  =  5.453903636946008 \n",
      "\n",
      "error №  17  =  5.442535087357115 \n",
      "\n",
      "error №  18  =  5.451577011033647 \n",
      "\n",
      "error №  19  =  5.450957836386989 \n",
      "\n",
      "error №  20  =  5.455454044759808 \n",
      "\n",
      "error №  21  =  5.452830834182104 \n",
      "\n",
      "error №  22  =  5.4534823020413565 \n",
      "\n",
      "error №  23  =  5.456955189013637 \n",
      "\n",
      "error №  24  =  5.4585969199592395 \n",
      "\n",
      "error №  25  =  5.4597046298350955 \n",
      "\n",
      "error №  26  =  5.458441954443328 \n",
      "\n",
      "error №  27  =  5.459544166421452 \n",
      "\n",
      "error №  28  =  5.474640780590228 \n",
      "\n",
      "error №  29  =  5.455978129276078 \n",
      "\n",
      "error №  30  =  5.456647037889836 \n",
      "\n",
      "error №  31  =  5.456688163206112 \n",
      "\n",
      "error №  32  =  5.455089494285212 \n",
      "\n",
      "error №  33  =  5.454920050184027 \n",
      "\n",
      "error №  34  =  5.454737355535651 \n",
      "\n",
      "error №  35  =  5.4557529752777665 \n",
      "\n",
      "error №  36  =  5.457222277871692 \n",
      "\n",
      "error №  37  =  5.456585785858681 \n",
      "\n",
      "error №  38  =  5.454982869324787 \n",
      "\n",
      "error №  39  =  5.455803988401056 \n",
      "\n",
      "error №  40  =  5.455699568702136 \n",
      "\n",
      "error №  41  =  5.455320529878214 \n",
      "\n",
      "error №  42  =  5.454721673397888 \n",
      "\n",
      "error №  43  =  5.454973956294515 \n",
      "\n",
      "error №  44  =  5.455111351969862 \n",
      "\n",
      "error №  45  =  5.455731058970443 \n",
      "\n",
      "error №  46  =  5.4557186100299795 \n",
      "\n",
      "error №  47  =  5.455788482463016 \n",
      "\n",
      "error №  48  =  5.455738872267899 \n",
      "\n",
      "error №  49  =  5.455623403859612 \n",
      "\n"
     ]
    }
   ],
   "source": [
    "def gbm_predict(X):\n",
    "    return [sum([coeff * algo.predict([x])[0] for algo, coeff in zip\n",
    "                 (base_algorithms_list, coefficients_list)]) for x in X]\n",
    "#(считаем, что base_algorithms_list - список с базовыми алгоритмами,\n",
    " #coefficients_list - список с коэффициентами перед алгоритмами)\n",
    "base_algorithms_list = []\n",
    "coefficients_list = []\n",
    "error_2 = []\n",
    "\n",
    "estimator = tree.DecisionTreeRegressor(max_depth=5, random_state = 42)    \n",
    "estimator.fit(X_train, y_train)\n",
    "base_algorithms_list.append(estimator)\n",
    "coefficients_list.append(0.9)\n",
    "err = np.sqrt(metrics.mean_squared_error(y_test, gbm_predict(X_test)))\n",
    "error_2.append(err)\n",
    "    \n",
    "for i in range(1, 50):\n",
    "    estimator = tree.DecisionTreeRegressor(max_depth=5,random_state = 42)    \n",
    "    \n",
    "    y_pred = gbm_predict(X_train)\n",
    "    \n",
    "    estimator.fit(X_train, grad(y_train, y_pred))\n",
    "    base_algorithms_list.append(estimator)\n",
    "    coefficients_list.append(0.9)\n",
    "    \n",
    "    err = np.sqrt(metrics.mean_squared_error(y_test, gbm_predict(X_test)))\n",
    "    error_2.append(err)\n",
    "    print ('error № ',i,' = ', err,'\\n')"
   ]
  },
  {
   "cell_type": "code",
   "execution_count": 17,
   "id": "762fdc21",
   "metadata": {},
   "outputs": [
    {
     "name": "stdout",
     "output_type": "stream",
     "text": [
      "5.455623403859612\n"
     ]
    }
   ],
   "source": [
    "ans1 = error_2[49]\n",
    "print (ans1)\n",
    "with open('grad_boost_ans1.txt', 'w') as file_out:\n",
    "        file_out.write(str(ans1))"
   ]
  },
  {
   "cell_type": "markdown",
   "id": "2199f2fc",
   "metadata": {},
   "source": [
    "Задание 3\n",
    "Вас может также беспокоить, что двигаясь с постоянным шагом, вблизи минимума ошибки ответы на обучающей выборке меняются слишком резко, перескакивая через минимум.\n",
    "\n",
    "Попробуйте уменьшать вес перед каждым алгоритмом с каждой следующей итерацией по формуле 0.9 / (1.0 + i), где i - номер итерации (от 0 до 49). Используйте качество работы алгоритма как ответ в пункте 3.\n",
    "\n",
    "В реальности часто применяется следующая стратегия выбора шага: как только выбран алгоритм, подберем коэффициент перед ним численным методом оптимизации таким образом, чтобы отклонение от правильных ответов было минимальным. Мы не будем предлагать вам реализовать это для выполнения задания, но рекомендуем попробовать разобраться с такой стратегией и реализовать ее при случае для себя."
   ]
  },
  {
   "cell_type": "code",
   "execution_count": 18,
   "id": "5eadee54",
   "metadata": {},
   "outputs": [
    {
     "name": "stdout",
     "output_type": "stream",
     "text": [
      "error №  1  =  4.411594948336074 \n",
      "\n",
      "error №  2  =  4.391183171661546 \n",
      "\n",
      "error №  3  =  4.458775073285299 \n",
      "\n",
      "error №  4  =  4.498661031729782 \n",
      "\n",
      "error №  5  =  4.5168152101676124 \n",
      "\n",
      "error №  6  =  4.550526944390747 \n",
      "\n",
      "error №  7  =  4.609092468715132 \n",
      "\n",
      "error №  8  =  4.6339875745933385 \n",
      "\n",
      "error №  9  =  4.651558505714779 \n",
      "\n",
      "error №  10  =  4.659211687810463 \n",
      "\n",
      "error №  11  =  4.665846192244087 \n",
      "\n",
      "error №  12  =  4.687756339977889 \n",
      "\n",
      "error №  13  =  4.705212386904845 \n",
      "\n",
      "error №  14  =  4.70888638920925 \n",
      "\n",
      "error №  15  =  4.727160820532567 \n",
      "\n",
      "error №  16  =  4.738601041184404 \n",
      "\n",
      "error №  17  =  4.7434294144854805 \n",
      "\n",
      "error №  18  =  4.747957771408691 \n",
      "\n",
      "error №  19  =  4.754535803819599 \n",
      "\n",
      "error №  20  =  4.760702807935853 \n",
      "\n",
      "error №  21  =  4.76469042919606 \n",
      "\n",
      "error №  22  =  4.764828870587975 \n",
      "\n",
      "error №  23  =  4.763080541850576 \n",
      "\n",
      "error №  24  =  4.763091173078234 \n",
      "\n",
      "error №  25  =  4.762268473295419 \n",
      "\n",
      "error №  26  =  4.758055256544697 \n",
      "\n",
      "error №  27  =  4.768499657813316 \n",
      "\n",
      "error №  28  =  4.7718046637409675 \n",
      "\n",
      "error №  29  =  4.780389023483234 \n",
      "\n",
      "error №  30  =  4.7765763172358175 \n",
      "\n",
      "error №  31  =  4.783744654359199 \n",
      "\n",
      "error №  32  =  4.7865280216634964 \n",
      "\n",
      "error №  33  =  4.788442367935862 \n",
      "\n",
      "error №  34  =  4.787212053443569 \n",
      "\n",
      "error №  35  =  4.792422462196972 \n",
      "\n",
      "error №  36  =  4.793468730432272 \n",
      "\n",
      "error №  37  =  4.7994641171508885 \n",
      "\n",
      "error №  38  =  4.804033058481719 \n",
      "\n",
      "error №  39  =  4.8038723728476995 \n",
      "\n",
      "error №  40  =  4.803086837269195 \n",
      "\n",
      "error №  41  =  4.804028978406079 \n",
      "\n",
      "error №  42  =  4.805470455205758 \n",
      "\n",
      "error №  43  =  4.804790977053986 \n",
      "\n",
      "error №  44  =  4.803709717063459 \n",
      "\n",
      "error №  45  =  4.804773448498893 \n",
      "\n",
      "error №  46  =  4.808927271733807 \n",
      "\n",
      "error №  47  =  4.808240835910818 \n",
      "\n",
      "error №  48  =  4.80887898153513 \n",
      "\n",
      "error №  49  =  4.812550945781193 \n",
      "\n"
     ]
    }
   ],
   "source": [
    "base_algorithms_list = []\n",
    "coefficients_list = []\n",
    "error_3 = []\n",
    "\n",
    "estimator = tree.DecisionTreeRegressor(max_depth=5, random_state = 42)    \n",
    "estimator.fit(X_train, y_train)\n",
    "base_algorithms_list.append(estimator)\n",
    "coefficients_list.append(0.9)\n",
    "err = np.sqrt(metrics.mean_squared_error(y_test, gbm_predict(X_test)))\n",
    "error_3.append(err)\n",
    "    \n",
    "for i in range(1, 50):\n",
    "    estimator = tree.DecisionTreeRegressor(max_depth=5,random_state = 42)    \n",
    "    \n",
    "    y_pred = gbm_predict(X_train)\n",
    "    \n",
    "    estimator.fit(X_train, grad(y_train, y_pred))\n",
    "    base_algorithms_list.append(estimator)\n",
    "    coefficients_list.append(0.9/(1. + i))\n",
    "    \n",
    "    err = np.sqrt(metrics.mean_squared_error(y_test, gbm_predict(X_test)))\n",
    "    error_3.append(err)\n",
    "    print ('error № ',i,' = ', err,'\\n')"
   ]
  },
  {
   "cell_type": "code",
   "execution_count": 19,
   "id": "b13dcc30",
   "metadata": {},
   "outputs": [
    {
     "name": "stdout",
     "output_type": "stream",
     "text": [
      "4.812550945781193\n"
     ]
    }
   ],
   "source": [
    "ans2 = error_3[49]\n",
    "print (ans2)\n",
    "with open('grad_boost_ans2.txt', 'w') as file_out:\n",
    "        file_out.write(str(ans2))"
   ]
  },
  {
   "cell_type": "markdown",
   "id": "d015b700",
   "metadata": {},
   "source": [
    "Задание 4\n",
    "Реализованный вами метод - градиентный бустинг над деревьями - очень популярен в машинном обучении. Он представлен как в самой библиотеке sklearn, так и в сторонней библиотеке XGBoost, которая имеет свой питоновский интерфейс. На практике XGBoost работает заметно лучше GradientBoostingRegressor из sklearn, но для этого задания вы можете использовать любую реализацию.\n",
    "\n",
    "Исследуйте, переобучается ли градиентный бустинг с ростом числа итераций (и подумайте, почему), а также с ростом глубины деревьев. На основе наблюдений выпишите через пробел номера правильных из приведенных ниже утверждений в порядке возрастания номера (это будет ответ в п.4):\n",
    "\n",
    "1. С увеличением числа деревьев, начиная с некоторого момента, качество работы градиентного бустинга не меняется существенно. 2. С увеличением числа деревьев, начиная с некоторого момента, градиентный бустинг начинает переобучаться. 3. С ростом глубины деревьев, начиная с некоторого момента, качество работы градиентного бустинга на тестовой выборке начинает ухудшаться. 4. С ростом глубины деревьев, начиная с некоторого момента, качество работы градиентного бустинга перестает существенно изменяться\n"
   ]
  },
  {
   "cell_type": "code",
   "execution_count": 20,
   "id": "1fd2011d",
   "metadata": {},
   "outputs": [
    {
     "name": "stdout",
     "output_type": "stream",
     "text": [
      "1\n",
      "2\n",
      "3\n",
      "4\n",
      "5\n",
      "6\n",
      "7\n",
      "8\n",
      "9\n",
      "10\n",
      "11\n",
      "12\n",
      "13\n",
      "14\n",
      "15\n",
      "16\n",
      "17\n",
      "18\n",
      "19\n",
      "20\n",
      "21\n",
      "22\n",
      "23\n",
      "24\n",
      "25\n",
      "26\n",
      "27\n",
      "28\n",
      "29\n",
      "30\n",
      "31\n",
      "32\n",
      "33\n",
      "34\n",
      "35\n",
      "36\n",
      "37\n",
      "38\n",
      "39\n",
      "40\n",
      "41\n",
      "42\n",
      "43\n",
      "44\n",
      "45\n",
      "46\n",
      "47\n",
      "48\n",
      "49\n",
      "50\n",
      "51\n",
      "52\n",
      "53\n",
      "54\n",
      "55\n",
      "56\n",
      "57\n",
      "58\n",
      "59\n",
      "60\n",
      "61\n",
      "62\n",
      "63\n",
      "64\n",
      "65\n",
      "66\n",
      "67\n",
      "68\n",
      "69\n",
      "70\n",
      "71\n",
      "72\n",
      "73\n",
      "74\n",
      "75\n",
      "76\n",
      "77\n",
      "78\n",
      "79\n",
      "80\n",
      "81\n",
      "82\n",
      "83\n",
      "84\n",
      "85\n",
      "86\n",
      "87\n",
      "88\n",
      "89\n",
      "90\n",
      "91\n",
      "92\n",
      "93\n",
      "94\n",
      "95\n",
      "96\n",
      "97\n",
      "98\n",
      "99\n"
     ]
    }
   ],
   "source": [
    "# iteration\n",
    "err_list = []\n",
    "coefficients_list = []\n",
    "base_algorithms_list = []\n",
    "\n",
    "estimator = tree.DecisionTreeRegressor(max_depth=5, random_state = 42)    \n",
    "estimator.fit(X_train, y_train)\n",
    "base_algorithms_list.append(estimator)\n",
    "coefficients_list.append(0.9)\n",
    "err = np.sqrt(metrics.mean_squared_error(y_test, gbm_predict(X_test)))\n",
    "err_list.append(err)\n",
    "    \n",
    "for i in range(1, 100):\n",
    "    estimator = tree.DecisionTreeRegressor(max_depth=5,random_state = 42)    \n",
    "    \n",
    "    y_pred = gbm_predict(X_train)\n",
    "    \n",
    "    estimator.fit(X_train, grad(y_train, y_pred))\n",
    "    base_algorithms_list.append(estimator)\n",
    "    coefficients_list.append(0.9/(1. + i))\n",
    "    \n",
    "    err = np.sqrt(metrics.mean_squared_error(y_test, gbm_predict(X_test)))\n",
    "    err_list.append(err)\n",
    "    print (i,)"
   ]
  },
  {
   "cell_type": "code",
   "execution_count": 22,
   "id": "35c01c27",
   "metadata": {},
   "outputs": [
    {
     "data": {
      "text/plain": [
       "[<matplotlib.lines.Line2D at 0x7fb0c00fd7f0>]"
      ]
     },
     "execution_count": 22,
     "metadata": {},
     "output_type": "execute_result"
    },
    {
     "data": {
      "image/png": "[encoded data removed]",
      "text/plain": [
       "<Figure size 432x288 with 1 Axes>"
      ]
     },
     "metadata": {
      "needs_background": "light"
     },
     "output_type": "display_data"
    }
   ],
   "source": [
    "import matplotlib.pyplot as plt\n",
    "plt.plot(range(0, 100), err_list)"
   ]
  },
  {
   "cell_type": "code",
   "execution_count": 23,
   "id": "b7bd302d",
   "metadata": {},
   "outputs": [
    {
     "name": "stdout",
     "output_type": "stream",
     "text": [
      "1\n",
      "2\n",
      "3\n",
      "4\n",
      "5\n",
      "6\n",
      "7\n",
      "8\n",
      "9\n",
      "10\n",
      "11\n",
      "12\n",
      "13\n",
      "14\n",
      "15\n",
      "16\n",
      "17\n",
      "18\n",
      "19\n",
      "20\n",
      "21\n",
      "22\n",
      "23\n",
      "24\n",
      "25\n",
      "26\n",
      "27\n",
      "28\n",
      "29\n",
      "30\n",
      "31\n",
      "32\n",
      "33\n",
      "34\n",
      "35\n",
      "36\n",
      "37\n",
      "38\n",
      "39\n",
      "40\n",
      "41\n",
      "42\n",
      "43\n",
      "44\n",
      "45\n",
      "46\n",
      "47\n",
      "48\n",
      "49\n"
     ]
    }
   ],
   "source": [
    "# max_depth\n",
    "err_list = []\n",
    "coefficients_list = []\n",
    "base_algorithms_list = []\n",
    "depths = range(2, 2*50 + 2, 2)\n",
    "\n",
    "estimator = tree.DecisionTreeRegressor(max_depth=depths[0], random_state = 42)    \n",
    "estimator.fit(X_train, y_train)\n",
    "base_algorithms_list.append(estimator)\n",
    "coefficients_list.append(0.9)\n",
    "err = np.sqrt(metrics.mean_squared_error(y_test, gbm_predict(X_test)))\n",
    "err_list.append(err)\n",
    "    \n",
    "for i in range(1, 50):\n",
    "    estimator = tree.DecisionTreeRegressor(max_depth=depths[i],random_state = 42)    \n",
    "    \n",
    "    y_pred = gbm_predict(X_train)\n",
    "    \n",
    "    estimator.fit(X_train, grad(y_train, y_pred))\n",
    "    base_algorithms_list.append(estimator)\n",
    "    coefficients_list.append(0.9/(1.0 + i))\n",
    "    \n",
    "    err = np.sqrt(metrics.mean_squared_error(y_test, gbm_predict(X_test)))\n",
    "    err_list.append(err)\n",
    "    print (i,)"
   ]
  },
  {
   "cell_type": "code",
   "execution_count": 24,
   "id": "8fb9d207",
   "metadata": {},
   "outputs": [
    {
     "data": {
      "text/plain": [
       "[<matplotlib.lines.Line2D at 0x7fb0e22ed070>]"
      ]
     },
     "execution_count": 24,
     "metadata": {},
     "output_type": "execute_result"
    },
    {
     "data": {
      "image/png": "[encoded data removed]",
      "text/plain": [
       "<Figure size 432x288 with 1 Axes>"
      ]
     },
     "metadata": {
      "needs_background": "light"
     },
     "output_type": "display_data"
    }
   ],
   "source": [
    "plt.plot(depths, err_list)"
   ]
  },
  {
   "cell_type": "code",
   "execution_count": 25,
   "id": "c551742c",
   "metadata": {},
   "outputs": [],
   "source": [
    "ans3 = '2 3'\n",
    "with open('grad_boost_ans3.txt', 'w') as file_out:\n",
    "        file_out.write(ans3)"
   ]
  },
  {
   "cell_type": "markdown",
   "id": "008116d8",
   "metadata": {},
   "source": [
    "Задание 5\n",
    "Сравните получаемое с помощью градиентного бустинга качество с качеством работы линейной регрессии.\n",
    "\n",
    "Для этого обучите LinearRegression из sklearn.linear_model (с параметрами по умолчанию) на обучающей выборке и оцените для прогнозов полученного алгоритма на тестовой выборке RMSE. Полученное качество - ответ в пункте 5.\n",
    "\n",
    "В данном примере качество работы простой модели должно было оказаться хуже, но не стоит забывать, что так бывает не всегда. В заданиях к этому курсу вы еще встретите пример обратной ситуации."
   ]
  },
  {
   "cell_type": "code",
   "execution_count": 26,
   "id": "d6f7ce9d",
   "metadata": {},
   "outputs": [],
   "source": [
    "from sklearn.linear_model import LinearRegression"
   ]
  },
  {
   "cell_type": "code",
   "execution_count": 29,
   "id": "f1db93ec",
   "metadata": {},
   "outputs": [
    {
     "name": "stdout",
     "output_type": "stream",
     "text": [
      "8.254979753549145\n"
     ]
    }
   ],
   "source": [
    "LineReg = LinearRegression().fit(X_train, y_train)\n",
    "y_pred = LineReg.predict(X_test)\n",
    "ans5 = np.sqrt(metrics.mean_squared_error(y_test, y_pred))\n",
    "print(ans5)\n",
    "with open('grad_boost_ans4.txt', 'w') as file_out:\n",
    "        file_out.write(str(ans5))"
   ]
  },
  {
   "cell_type": "code",
   "execution_count": null,
   "id": "f846c1a7",
   "metadata": {},
   "outputs": [],
   "source": []
  }
 ],
 "metadata": {
  "kernelspec": {
   "display_name": "Python 3 (ipykernel)",
   "language": "python",
   "name": "python3"
  },
  "language_info": {
   "codemirror_mode": {
    "name": "ipython",
    "version": 3
   },
   "file_extension": ".py",
   "mimetype": "text/x-python",
   "name": "python",
   "nbconvert_exporter": "python",
   "pygments_lexer": "ipython3",
   "version": "3.9.7"
  }
 },
 "nbformat": 4,
 "nbformat_minor": 5
}
